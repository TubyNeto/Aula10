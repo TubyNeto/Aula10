{
 "cells": [
  {
   "cell_type": "code",
   "execution_count": 1,
   "metadata": {
    "collapsed": false
   },
   "outputs": [
    {
     "name": "stdout",
     "output_type": "stream",
     "text": [
      "[[ 3.  2.  4.]\n",
      " [ 1.  1.  2.]\n",
      " [ 4.  3.  2.]]\n"
     ]
    }
   ],
   "source": [
    "import numpy as np\n",
    "#A = np.matrix([ [\n",
    "\n",
    "A=np.matrix([[3.,2.,4.], [1.,1.,2.], [4.,3.,2.]])\n",
    "print(A)\n"
   ]
  },
  {
   "cell_type": "code",
   "execution_count": 17,
   "metadata": {
    "collapsed": false
   },
   "outputs": [
    {
     "name": "stdout",
     "output_type": "stream",
     "text": [
      "M\n",
      " [[ 1.          0.          0.        ]\n",
      " [-0.33333333  1.          0.        ]\n",
      " [-1.33333333  0.          1.        ]]\n",
      "M1\n",
      " [[ 1.  0.  0.]\n",
      " [ 0.  1.  0.]\n",
      " [ 0. -3.  1.]]\n",
      "A1\n",
      " [[ 3.          2.          4.        ]\n",
      " [ 0.          0.33333333  0.66666667]\n",
      " [ 0.          0.33333333 -3.33333333]]\n",
      "Matriz A final\n",
      " [[ 3.          2.          4.        ]\n",
      " [ 0.          0.33333333  0.66666667]\n",
      " [ 0.         -0.66666667 -5.33333333]]\n",
      "b final\n",
      " [ 1.          1.66666667  1.66666667]\n"
     ]
    }
   ],
   "source": [
    "def matrizM():\n",
    "    if (np.linalg.det(A)!=0):\n",
    "        M=np.zeros((3,3))\n",
    "        for j in range (3):\n",
    "            for m in range (3):\n",
    "                if (m==j):\n",
    "                    M[j][m]=1\n",
    "\n",
    "        for k in range (1):\n",
    "            for i in range (k+1, 3):\n",
    "                m=A[i, k]/A[k, k]\n",
    "                M[i, k]=m*(-1)\n",
    "\n",
    "    return M\n",
    "\n",
    "\n",
    "M=matrizM()\n",
    "print('M\\n', M)\n",
    "A1=(matrizM()*A)\n",
    "\n",
    "def matrizM1():\n",
    "    if (np.linalg.det(A)!=0):\n",
    "        M1=np.zeros((3,3))\n",
    "        for j in range (3):\n",
    "            for m in range (3):\n",
    "                if (m==j):\n",
    "                    M1[j][m]=1\n",
    "\n",
    "        for k in range (1, 3):\n",
    "            for i in range (k+1, 3):\n",
    "                m=A[i, k]/A[k, k]\n",
    "                M1[i, k]=m*(-1)\n",
    "\n",
    "                \n",
    "    return M1\n",
    "\n",
    "def bFinal(b):\n",
    "    return np.dot(M,b)\n",
    "    \n",
    "    \n",
    "\n",
    "\n",
    "M1 = matrizM1()\n",
    "print('M1\\n', M1)\n",
    "print('A1\\n', A1)\n",
    "matrizFinal = M1*A1\n",
    "print('Matriz A final\\n', matrizFinal)\n",
    "b=np.array([1,2,3])\n",
    "b = bFinal(b)\n",
    "print('b final\\n', b)\n",
    "\n",
    "\n"
   ]
  },
  {
   "cell_type": "code",
   "execution_count": null,
   "metadata": {
    "collapsed": true
   },
   "outputs": [],
   "source": []
  }
 ],
 "metadata": {
  "anaconda-cloud": {},
  "kernelspec": {
   "display_name": "Python [conda root]",
   "language": "python",
   "name": "conda-root-py"
  },
  "language_info": {
   "codemirror_mode": {
    "name": "ipython",
    "version": 3
   },
   "file_extension": ".py",
   "mimetype": "text/x-python",
   "name": "python",
   "nbconvert_exporter": "python",
   "pygments_lexer": "ipython3",
   "version": "3.5.2"
  }
 },
 "nbformat": 4,
 "nbformat_minor": 1
}
